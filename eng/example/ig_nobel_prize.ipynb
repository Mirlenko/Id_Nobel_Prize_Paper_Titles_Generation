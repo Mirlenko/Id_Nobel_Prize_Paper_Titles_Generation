{
 "cells": [
  {
   "cell_type": "code",
   "execution_count": 1,
   "metadata": {},
   "outputs": [],
   "source": [
    "import re\n",
    "from random import uniform, choice\n",
    "from collections import defaultdict\n",
    "import numpy as np\n",
    "from fuzzywuzzy import process\n",
    "import pickle\n",
    "import argparse"
   ]
  },
  {
   "cell_type": "code",
   "execution_count": 2,
   "metadata": {},
   "outputs": [],
   "source": [
    "# symbols to keep - regex\n",
    "r_alphabet = re.compile(u'[a-zA-Z0-9-]+|[.,:;?!]+')\n",
    "r_filter = '(\\w+)?[-]?\\d+[-,.]?(\\w+)?[\\d+]?'\n",
    "one_more_filter = '-+\\w+'\n",
    "\n",
    "exceptions = ['as', 'at', 'but', 'by', 'for', 'in', 'of', 'off', 'on', 'out', 'per', 'to', 'up', 'via', 'a', 'the', 'and', '.', ',', ':', ';', 'pi', 'new', 'bar', 'sum', 'sea', 'low', 'gas']\n",
    "\n",
    "# generator - all lines to lower register\n",
    "def gen_lines(corpus):\n",
    "    data = open(corpus, encoding = 'utf-8')\n",
    "    for line in data:\n",
    "        yield line.lower()\n",
    "\n",
    "# generator - tokens\n",
    "def gen_tokens(lines):\n",
    "    for line in lines:\n",
    "        tokens = r_alphabet.findall(line)\n",
    "        for token in tokens:\n",
    "            if re.match(r_filter, token):\n",
    "                continue\n",
    "            if re.match(one_more_filter, token):\n",
    "                continue\n",
    "            elif (len(token) <= 3) & (token not in exceptions):\n",
    "                continue\n",
    "            else:\n",
    "                yield token\n",
    "\n",
    "# generator - trigrams (three words in a row)         \n",
    "def gen_trigrams(tokens):\n",
    "    t0, t1 = '$', '$'\n",
    "    for t2 in tokens:\n",
    "        yield t0, t1, t2\n",
    "        if t2 in '.!?':\n",
    "            yield t1, t2, '$'\n",
    "            yield t2, '$','$'\n",
    "            t0, t1 = '$', '$'\n",
    "        else:\n",
    "            t0, t1 = t1, t2"
   ]
  },
  {
   "cell_type": "code",
   "execution_count": 3,
   "metadata": {},
   "outputs": [],
   "source": [
    "def train(corpus):\n",
    "    lines = gen_lines(corpus)\n",
    "    tokens = gen_tokens(lines)\n",
    "    trigrams = gen_trigrams(tokens)\n",
    "\n",
    "    bi, tri = defaultdict(lambda: 0.0), defaultdict(lambda: 0.0)\n",
    "\n",
    "    for t0, t1, t2 in trigrams:\n",
    "        bi[t0, t1] += 1\n",
    "        tri[t0, t1, t2] += 1\n",
    "\n",
    "    model = {}\n",
    "    for (t0, t1, t2), freq in tri.items():\n",
    "        if (t0, t1) in model:\n",
    "            model[t0, t1].append((t2, freq/bi[t0, t1]))\n",
    "        else:\n",
    "            model[t0, t1] = [(t2, freq/bi[t0, t1])]\n",
    "    return model"
   ]
  },
  {
   "cell_type": "code",
   "execution_count": 4,
   "metadata": {
    "scrolled": false
   },
   "outputs": [],
   "source": [
    "model = train('paper_titles_new.csv')"
   ]
  },
  {
   "cell_type": "code",
   "execution_count": 5,
   "metadata": {
    "scrolled": false
   },
   "outputs": [],
   "source": [
    "lines = list(gen_lines('paper_titles_new.csv'))\n",
    "tokens_set = set(gen_tokens(lines))"
   ]
  },
  {
   "cell_type": "code",
   "execution_count": 6,
   "metadata": {},
   "outputs": [
    {
     "data": {
      "text/plain": [
       "1771038"
      ]
     },
     "execution_count": 6,
     "metadata": {},
     "output_type": "execute_result"
    }
   ],
   "source": [
    "len(lines)"
   ]
  },
  {
   "cell_type": "code",
   "execution_count": 7,
   "metadata": {},
   "outputs": [],
   "source": [
    "with open('model', 'wb') as f:\n",
    "    pickle.dump(model, f)"
   ]
  },
  {
   "cell_type": "code",
   "execution_count": 8,
   "metadata": {},
   "outputs": [],
   "source": [
    "with open('tokens_set', 'wb') as f:\n",
    "    pickle.dump(tokens_set, f)"
   ]
  },
  {
   "cell_type": "code",
   "execution_count": 9,
   "metadata": {},
   "outputs": [],
   "source": [
    "def unirand(seq):\n",
    "    items = []\n",
    "    for item, freq in seq:\n",
    "        items.append(item)\n",
    "    token = choice(items)\n",
    "    return token"
   ]
  },
  {
   "cell_type": "code",
   "execution_count": 10,
   "metadata": {},
   "outputs": [],
   "source": [
    "def generate_title(first_word, exception = '', query = ''):\n",
    "    phrase = ''\n",
    "    first_word = first_word.lower()\n",
    "    t0, t1 = '$', first_word\n",
    "    \n",
    "    if len(exception) != 0:\n",
    "        phrase += query + ' ' + exception\n",
    "    else:\n",
    "        phrase += first_word\n",
    "    while len(phrase) < 100:\n",
    "        t0, t1 = t1, unirand(model[t0, t1])\n",
    "        if t1 == '$': break\n",
    "        if t1 in ('.!?,;:') or t0 == '$':\n",
    "            phrase += t1\n",
    "        else:\n",
    "            phrase += ' ' + t1\n",
    "    return phrase.capitalize()"
   ]
  },
  {
   "cell_type": "code",
   "execution_count": 14,
   "metadata": {},
   "outputs": [],
   "source": [
    "def run(keyword):\n",
    "    try:\n",
    "        print(generate_title(keyword))\n",
    "    except KeyError:\n",
    "        print('Hmmmm... let me think...')\n",
    "        extract = process.extract(keyword.lower(), tokens_set)\n",
    "        exception = choice(extract)\n",
    "        first_word = choice(['a', 'the'])\n",
    "        print(generate_title(first_word, exception[0], keyword))"
   ]
  },
  {
   "cell_type": "code",
   "execution_count": 15,
   "metadata": {},
   "outputs": [
    {
     "name": "stdout",
     "output_type": "stream",
     "text": [
      "Hmmmm... let me think...\n",
      "Apple dapple substantial energy output of population gradients of nitrogen dioxide measurement in same-sign\n"
     ]
    }
   ],
   "source": [
    "run('apple')"
   ]
  }
 ],
 "metadata": {
  "kernelspec": {
   "display_name": "Python 3",
   "language": "python",
   "name": "python3"
  },
  "language_info": {
   "codemirror_mode": {
    "name": "ipython",
    "version": 3
   },
   "file_extension": ".py",
   "mimetype": "text/x-python",
   "name": "python",
   "nbconvert_exporter": "python",
   "pygments_lexer": "ipython3",
   "version": "3.8.5"
  }
 },
 "nbformat": 4,
 "nbformat_minor": 4
}
